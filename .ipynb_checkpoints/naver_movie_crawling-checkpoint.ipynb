{
 "cells": [
  {
   "cell_type": "code",
   "execution_count": 6,
   "metadata": {},
   "outputs": [],
   "source": [
    "import requests\n",
    "from bs4 import BeautifulSoup\n",
    "import time"
   ]
  },
  {
   "cell_type": "code",
   "execution_count": 7,
   "metadata": {},
   "outputs": [],
   "source": [
    "# URL에서 html가져오는 함수\n",
    "def HTML가져오기(url):\n",
    "   _html = \"\"\n",
    "   resp = requests.get(url) # URL에 GET 요청을 보내서 돌아온 응답(response)\n",
    "   if resp.status_code == 200: # 200이면 정상적으로 응답이 왔다는 뜻\n",
    "      _html = resp.text # 거기서 텍스트 즉 html만 가져오고\n",
    "   return _html # 그걸 반환함\n"
   ]
  },
  {
   "cell_type": "code",
   "execution_count": 8,
   "metadata": {},
   "outputs": [
    {
     "ename": "NameError",
     "evalue": "name 'soup' is not defined",
     "output_type": "error",
     "traceback": [
      "\u001b[1;31m---------------------------------------------------------------------------\u001b[0m",
      "\u001b[1;31mNameError\u001b[0m                                 Traceback (most recent call last)",
      "\u001b[1;32m<ipython-input-8-dd78dfa18678>\u001b[0m in \u001b[0;36m<module>\u001b[1;34m\u001b[0m\n\u001b[1;32m----> 1\u001b[1;33m \u001b[0mtables\u001b[0m \u001b[1;33m=\u001b[0m \u001b[0msoup\u001b[0m\u001b[1;33m.\u001b[0m\u001b[0mfind\u001b[0m\u001b[1;33m(\u001b[0m\u001b[1;34m'body'\u001b[0m\u001b[1;33m)\u001b[0m\u001b[1;33m.\u001b[0m\u001b[0mfind_all\u001b[0m\u001b[1;33m(\u001b[0m\u001b[1;34m'table'\u001b[0m\u001b[1;33m,\u001b[0m \u001b[0mrecursive\u001b[0m\u001b[1;33m=\u001b[0m\u001b[1;32mFalse\u001b[0m\u001b[1;33m)\u001b[0m\u001b[1;33m\u001b[0m\u001b[1;33m\u001b[0m\u001b[0m\n\u001b[0m\u001b[0;32m      2\u001b[0m \u001b[0mprint\u001b[0m\u001b[1;33m(\u001b[0m\u001b[0mlen\u001b[0m\u001b[1;33m(\u001b[0m\u001b[0mtables\u001b[0m\u001b[1;33m)\u001b[0m\u001b[1;33m)\u001b[0m\u001b[1;33m\u001b[0m\u001b[1;33m\u001b[0m\u001b[0m\n\u001b[0;32m      3\u001b[0m \u001b[0mprint\u001b[0m\u001b[1;33m(\u001b[0m\u001b[0mtables\u001b[0m\u001b[1;33m[\u001b[0m\u001b[1;36m1\u001b[0m\u001b[1;33m]\u001b[0m\u001b[1;33m.\u001b[0m\u001b[0mtext\u001b[0m\u001b[1;33m.\u001b[0m\u001b[0mstrip\u001b[0m\u001b[1;33m(\u001b[0m\u001b[1;33m)\u001b[0m\u001b[1;33m)\u001b[0m\u001b[1;33m\u001b[0m\u001b[1;33m\u001b[0m\u001b[0m\n",
      "\u001b[1;31mNameError\u001b[0m: name 'soup' is not defined"
     ]
    }
   ],
   "source": [
    "tables = soup.find('body').find_all('table', recursive=False)\n",
    "print(len(tables))\n",
    "print(tables[1].text.strip())"
   ]
  },
  {
   "cell_type": "code",
   "execution_count": 95,
   "metadata": {
    "collapsed": true
   },
   "outputs": [],
   "source": [
    "#리뷰 가져오는 함수\n",
    "def 리뷰_가져오기(URL):\n",
    "    html = HTML가져오기(URL) # 위에서 정의된 함수\n",
    "    soup = BeautifulSoup(html, 'html.parser') # beatifuleSoup 라이브러리에 html넣어서 파싱함 \n",
    "    \n",
    "    네이버140자평 = soup.find('div', {'class': 'score_result'}) # score_result 클래스를 가진 div 태그\n",
    "    별점들 = 네이버140자평.find_all(\"div\",{\"class\": \"star_score\"}) \n",
    "    리뷰들 = 네이버140자평.find_all(\"div\",{\"class\": \"score_reple\"})\n",
    "    따봉들 = 네이버140자평.find_all(\"div\",{\"class\": \"btn_area\"})\n",
    "#    언따봉들 = 네이버140자평.findAll(\"div\",{\"class\": \"btn_area\"})[1]\n",
    "    \n",
    "    별점 = [int(별점.em.text) for 별점 in 별점들] # [number + 10 for number in [1,2,3]]의 결과는 [11, 12, 13]\n",
    "    리뷰 = [리뷰.p.text.replace('BEST', '') for 리뷰 in 리뷰들]\n",
    "    따봉 = [int(따봉.strong.span.text) for 따봉 in 따봉들]\n",
    "#    언따봉 = [int(언따봉.strong.span.text) for 언따봉 in 언따봉들]\n",
    "\n",
    "    결과 = list(zip(별점,리뷰,따봉)) # list(zip([1,2,3], [4,5,6]))의 결과는 [(1,4), (2,5), (3,6)]\n",
    "    \n",
    "    return 결과"
   ]
  },
  {
   "cell_type": "code",
   "execution_count": 1,
   "metadata": {
    "scrolled": true
   },
   "outputs": [
    {
     "ename": "NameError",
     "evalue": "name '리뷰_가져오기' is not defined",
     "output_type": "error",
     "traceback": [
      "\u001b[1;31m---------------------------------------------------------------------------\u001b[0m",
      "\u001b[1;31mNameError\u001b[0m                                 Traceback (most recent call last)",
      "\u001b[1;32m<ipython-input-1-e12e0db8e7eb>\u001b[0m in \u001b[0;36m<module>\u001b[1;34m\u001b[0m\n\u001b[0;32m      5\u001b[0m \u001b[0m네이버리뷰\u001b[0m \u001b[1;33m=\u001b[0m \u001b[1;33m[\u001b[0m\u001b[1;33m]\u001b[0m\u001b[1;33m\u001b[0m\u001b[1;33m\u001b[0m\u001b[0m\n\u001b[0;32m      6\u001b[0m \u001b[1;32mfor\u001b[0m \u001b[0m페이지\u001b[0m \u001b[1;32min\u001b[0m \u001b[0mrange\u001b[0m\u001b[1;33m(\u001b[0m\u001b[1;36m1\u001b[0m\u001b[1;33m,\u001b[0m\u001b[0m가져올_페이지_수\u001b[0m\u001b[1;33m+\u001b[0m\u001b[1;36m1\u001b[0m\u001b[1;33m)\u001b[0m\u001b[1;33m:\u001b[0m\u001b[1;33m\u001b[0m\u001b[1;33m\u001b[0m\u001b[0m\n\u001b[1;32m----> 7\u001b[1;33m     \u001b[0m네이버리뷰\u001b[0m \u001b[1;33m+=\u001b[0m \u001b[0m리뷰_가져오기\u001b[0m\u001b[1;33m(\u001b[0m\u001b[0mURL\u001b[0m \u001b[1;33m+\u001b[0m \u001b[0mstr\u001b[0m\u001b[1;33m(\u001b[0m\u001b[0m페이지\u001b[0m\u001b[1;33m)\u001b[0m\u001b[1;33m)\u001b[0m\u001b[1;33m\u001b[0m\u001b[1;33m\u001b[0m\u001b[0m\n\u001b[0m\u001b[0;32m      8\u001b[0m     \u001b[0mtime\u001b[0m\u001b[1;33m.\u001b[0m\u001b[0msleep\u001b[0m\u001b[1;33m(\u001b[0m\u001b[1;36m1.3\u001b[0m\u001b[1;33m)\u001b[0m\u001b[1;33m\u001b[0m\u001b[1;33m\u001b[0m\u001b[0m\n\u001b[0;32m      9\u001b[0m \u001b[1;33m\u001b[0m\u001b[0m\n",
      "\u001b[1;31mNameError\u001b[0m: name '리뷰_가져오기' is not defined"
     ]
    }
   ],
   "source": [
    "\n",
    "영화코드 = '136900'\n",
    "URL = 'http://movie.naver.com/movie/bi/mi/pointWriteFormList.nhn?code='+ 영화코드 +'&type=after&isActualPointWriteExecute=false&isMileageSubscriptionAlready=false&isMileageSubscriptionReject=false&page='\n",
    "가져올_페이지_수 = 5\n",
    "\n",
    "네이버리뷰 = []\n",
    "for 페이지 in range(1,가져올_페이지_수+1):\n",
    "    네이버리뷰 += 리뷰_가져오기(URL + str(페이지))\n",
    "    time.sleep(1.3)\n",
    "    \n",
    "    \n",
    "print(네이버리뷰)"
   ]
  },
  {
   "cell_type": "code",
   "execution_count": null,
   "metadata": {},
   "outputs": [],
   "source": []
  },
  {
   "cell_type": "markdown",
   "metadata": {},
   "source": [
    "## csv로 쓰기"
   ]
  },
  {
   "cell_type": "code",
   "execution_count": 102,
   "metadata": {
    "collapsed": true
   },
   "outputs": [],
   "source": [
    "import csv\n",
    "\n",
    "csv파일 = open('네이버영화리뷰-어벤져스_따봉추가.csv', 'w',  newline='') # 파일이 이미 있든 없든 쓰기 전용으로 열어서\n",
    "csvout = csv.DictWriter(csv파일, ['별점', '리플','따봉']) # 헤더 만들고\n",
    "csvout.writeheader() \n",
    "\n",
    "for 리뷰 in 네이버리뷰: \n",
    "    csvout.writerow({'별점': 리뷰[0], '리플': 리뷰[1], '따봉' : 리뷰[2]}) # 데이터 한 줄씩 써넣음\n",
    "\n",
    "csv파일.close()"
   ]
  },
  {
   "cell_type": "code",
   "execution_count": null,
   "metadata": {},
   "outputs": [],
   "source": []
  }
 ],
 "metadata": {
  "hide_input": false,
  "kernelspec": {
   "display_name": "Python 3",
   "language": "python",
   "name": "python3"
  },
  "language_info": {
   "codemirror_mode": {
    "name": "ipython",
    "version": 3
   },
   "file_extension": ".py",
   "mimetype": "text/x-python",
   "name": "python",
   "nbconvert_exporter": "python",
   "pygments_lexer": "ipython3",
   "version": "3.7.4"
  }
 },
 "nbformat": 4,
 "nbformat_minor": 2
}
