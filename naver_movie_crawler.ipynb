{
 "cells": [
  {
   "cell_type": "code",
   "execution_count": 67,
   "metadata": {},
   "outputs": [],
   "source": [
    "import requests\n",
    "from bs4 import BeautifulSoup\n",
    "import time\n",
    "import pandas as pd"
   ]
  },
  {
   "cell_type": "code",
   "execution_count": 56,
   "metadata": {},
   "outputs": [],
   "source": [
    "# URL에서 html가져오는 함수\n",
    "def HTML가져오기(url):\n",
    "   _html = \"\"\n",
    "   resp = requests.get(url) # URL에 GET 요청을 보내서 돌아온 응답(response)\n",
    "   if resp.status_code == 200: # 200이면 정상적으로 응답이 왔다는 뜻\n",
    "      _html = resp.text # 거기서 텍스트 즉 html만 가져오고\n",
    "   return _html # 그걸 반환함"
   ]
  },
  {
   "cell_type": "code",
   "execution_count": 57,
   "metadata": {},
   "outputs": [],
   "source": [
    "#리뷰 가져오는 함수\n",
    "def 리뷰_가져오기(URL):\n",
    "    html = HTML가져오기(URL) # 위에서 정의된 함수\n",
    "    soup = BeautifulSoup(html, 'html.parser') # beatifuleSoup 라이브러리에 html넣어서 파싱함 \n",
    "    \n",
    "    네이버140자평 = soup.find('div', {'class': 'score_result'}) # score_result 클래스를 가진 div 태그\n",
    "    별점들 = 네이버140자평.find_all(\"div\",{\"class\": \"star_score\"}) \n",
    "    리뷰들 = 네이버140자평.find_all(\"div\",{\"class\": \"score_reple\"})\n",
    "    따봉들 = 네이버140자평.find_all(\"div\",{\"class\": \"btn_area\"})\n",
    "\n",
    "    \n",
    "    별점 = [int(별점.em.text) for 별점 in 별점들] # [number + 10 for number in [1,2,3]]의 결과는 [11, 12, 13]\n",
    "    리뷰 = [리뷰.p.text.replace('BEST', '') for 리뷰 in 리뷰들]\n",
    "    결과 = list(zip(별점,리뷰)) # list(zip([1,2,3], [4,5,6]))의 결과는 [(1,4), (2,5), (3,6)]\n",
    "    \n",
    "    return 결과"
   ]
  },
  {
   "cell_type": "code",
   "execution_count": 58,
   "metadata": {},
   "outputs": [],
   "source": [
    "\n",
    "영화코드 = '136900'\n",
    "URL = 'http://movie.naver.com/movie/bi/mi/pointWriteFormList.nhn?code='+ 영화코드 +'&type=after&isActualPointWriteExecute=false&isMileageSubscriptionAlready=false&isMileageSubscriptionReject=false&page='\n",
    "가져올_페이지_수 = 5\n",
    "\n",
    "네이버리뷰 = []\n",
    "for 페이지 in range(1,가져올_페이지_수+1):\n",
    "    네이버리뷰 += 리뷰_가져오기(URL + str(페이지))\n",
    "    time.sleep(1.3)\n",
    "    \n",
    "네이버평점=[네이버리뷰[i][0] for i in range(len(네이버리뷰))]\n",
    "네이버감상평=[네이버리뷰[i][1].replace(\"\\n\",\"\").replace(\"\\t\",\"\").replace(\"\\r\",\"\") for i in range(len(네이버리뷰))]    \n",
    "# print(네이버리뷰)"
   ]
  },
  {
   "cell_type": "code",
   "execution_count": 68,
   "metadata": {},
   "outputs": [],
   "source": [
    "result=pd.DataFrame(list(zip(네이버평점,네이버감상평)),columns=[\"평점\",\"감상평\"])"
   ]
  },
  {
   "cell_type": "code",
   "execution_count": 69,
   "metadata": {},
   "outputs": [
    {
     "data": {
      "text/html": [
       "<div>\n",
       "<style scoped>\n",
       "    .dataframe tbody tr th:only-of-type {\n",
       "        vertical-align: middle;\n",
       "    }\n",
       "\n",
       "    .dataframe tbody tr th {\n",
       "        vertical-align: top;\n",
       "    }\n",
       "\n",
       "    .dataframe thead th {\n",
       "        text-align: right;\n",
       "    }\n",
       "</style>\n",
       "<table border=\"1\" class=\"dataframe\">\n",
       "  <thead>\n",
       "    <tr style=\"text-align: right;\">\n",
       "      <th></th>\n",
       "      <th>평점</th>\n",
       "      <th>감상평</th>\n",
       "    </tr>\n",
       "  </thead>\n",
       "  <tbody>\n",
       "    <tr>\n",
       "      <th>0</th>\n",
       "      <td>10</td>\n",
       "      <td>마블 3000만큼 사랑합니다</td>\n",
       "    </tr>\n",
       "    <tr>\n",
       "      <th>1</th>\n",
       "      <td>10</td>\n",
       "      <td>Avengers Assemble!</td>\n",
       "    </tr>\n",
       "    <tr>\n",
       "      <th>2</th>\n",
       "      <td>10</td>\n",
       "      <td>I'm Ironman.</td>\n",
       "    </tr>\n",
       "    <tr>\n",
       "      <th>3</th>\n",
       "      <td>10</td>\n",
       "      <td>관람객아이언맨으로 시작해서 아이언맨으로 끝난다..</td>\n",
       "    </tr>\n",
       "    <tr>\n",
       "      <th>4</th>\n",
       "      <td>10</td>\n",
       "      <td>아스가디언즈 오브 갤럭시 벌써부터 기대됨 ㅋㅋㅋㅋ</td>\n",
       "    </tr>\n",
       "    <tr>\n",
       "      <th>5</th>\n",
       "      <td>10</td>\n",
       "      <td>히어로물보고 울줄 누가알겠습니까</td>\n",
       "    </tr>\n",
       "    <tr>\n",
       "      <th>6</th>\n",
       "      <td>10</td>\n",
       "      <td>인피니티워가 10년을 무너뜨리는 영화라면엔드게임은 10년을 돌아보는 영화입니다</td>\n",
       "    </tr>\n",
       "    <tr>\n",
       "      <th>7</th>\n",
       "      <td>10</td>\n",
       "      <td>쥐가다살렸음 ㅋㅋㅋㅋ</td>\n",
       "    </tr>\n",
       "    <tr>\n",
       "      <th>8</th>\n",
       "      <td>10</td>\n",
       "      <td>관람객마지막 한타에서 쌌습니다</td>\n",
       "    </tr>\n",
       "    <tr>\n",
       "      <th>9</th>\n",
       "      <td>10</td>\n",
       "      <td>10점 안주는 사람들은 마블에 6에서900까지밖에 애정이 없는거 ...</td>\n",
       "    </tr>\n",
       "  </tbody>\n",
       "</table>\n",
       "</div>"
      ],
      "text/plain": [
       "   평점                                           감상평\n",
       "0  10                              마블 3000만큼 사랑합니다 \n",
       "1  10                           Avengers Assemble! \n",
       "2  10                                 I'm Ironman. \n",
       "3  10                  관람객아이언맨으로 시작해서 아이언맨으로 끝난다.. \n",
       "4  10                  아스가디언즈 오브 갤럭시 벌써부터 기대됨 ㅋㅋㅋㅋ \n",
       "5  10                            히어로물보고 울줄 누가알겠습니까 \n",
       "6  10  인피니티워가 10년을 무너뜨리는 영화라면엔드게임은 10년을 돌아보는 영화입니다 \n",
       "7  10                                  쥐가다살렸음 ㅋㅋㅋㅋ \n",
       "8  10                             관람객마지막 한타에서 쌌습니다 \n",
       "9  10      10점 안주는 사람들은 마블에 6에서900까지밖에 애정이 없는거 ... "
      ]
     },
     "execution_count": 69,
     "metadata": {},
     "output_type": "execute_result"
    }
   ],
   "source": [
    "result.head(10)"
   ]
  },
  {
   "cell_type": "code",
   "execution_count": null,
   "metadata": {},
   "outputs": [],
   "source": []
  }
 ],
 "metadata": {
  "kernelspec": {
   "display_name": "Python 3",
   "language": "python",
   "name": "python3"
  },
  "language_info": {
   "codemirror_mode": {
    "name": "ipython",
    "version": 3
   },
   "file_extension": ".py",
   "mimetype": "text/x-python",
   "name": "python",
   "nbconvert_exporter": "python",
   "pygments_lexer": "ipython3",
   "version": "3.6.10"
  }
 },
 "nbformat": 4,
 "nbformat_minor": 4
}
